{
 "cells": [
  {
   "cell_type": "markdown",
   "id": "42fd2890",
   "metadata": {},
   "source": [
    "질문1 :  아래의 url에서 뉴스기사의 링크와 제목을 출력하세요.\n",
    "    # 다음 경제 뉴스 URL\n",
    "    url = 'https://news.daum.net/economy'"
   ]
  },
  {
   "cell_type": "markdown",
   "id": "fb9d3278",
   "metadata": {},
   "source": [
    "response를 utf-8로 encoding\n",
    "<ul>\n",
    "   <li> \n",
    "     <a href=\"링크\">\n",
    "     <div class=\"cont_thum\">\n",
    "        <strong class=\"tit_txt\">뉴스제목"
   ]
  },
  {
   "cell_type": "code",
   "execution_count": null,
   "id": "64f507e4",
   "metadata": {},
   "outputs": [],
   "source": [
    "for li_tag in select('ul.list_newsheadline2 li'):\n",
    "    a_tag = li_tag.find('a')\n",
    "    link = a_tag['href']\t\n",
    "        \n",
    "    strong_tag = li_tag.select_one('div.cont_thumb strong.tit_txt')\n",
    "    title = strong_tag.text"
   ]
  },
  {
   "cell_type": "code",
   "execution_count": null,
   "id": "1d0a5bca",
   "metadata": {},
   "outputs": [
    {
     "name": "stdout",
     "output_type": "stream",
     "text": [
      "https://news.daum.net/economy\n",
      "<class 'requests.models.Response'>\n",
      "200\n",
      "<class 'bs4.element.ResultSet'> 9\n",
      "https://v.daum.net/v/20250723030601278\n",
      "[단독]‘배당소득 분리과세’ 대상 늘리고 감세 폭은 줄인다\n",
      "https://v.daum.net/v/20250723001500432\n",
      "“소고기·쌀은 지키겠다”…미국과 관세 담판 앞둔 한국, 히든카드는 ‘에너지’\n",
      "https://v.daum.net/v/20250722210317765\n",
      "韓 반도체는 깨어날 줄 모르고 [AI 칩 전쟁…한국은 없다?]\n",
      "https://v.daum.net/v/20250722204242273\n",
      "소비쿠폰 쓰려다가 '화들짝'…\"여기서는 못써요\" 응답에 '당황'한 소비자\n",
      "https://v.daum.net/v/20250722202007801\n",
      "‘해수부 부산 시대’ 조선·해양플랜트까지 업무 넓혀야\n",
      "https://v.daum.net/v/20250722200357366\n",
      "[이슈대담] “2040년 석탄화력발전소 폐쇄…신재생 에너지 전환”\n",
      "https://v.daum.net/v/20250722183143976\n",
      "“자율주행, 이동약자 지원하는 ‘공공성’에 초점 맞춰야”\n",
      "https://v.daum.net/v/20250722181057244\n",
      "꾸준히 강세 흐름 보이는 메이저 알트코인들 : 코리안 크립토 위클리 [INFCL 리서치]\n",
      "https://v.daum.net/v/20250722175548581\n",
      "세계시장 제패한 K뷰티·푸드…'첨단' 아니라며 R&D지원은 쥐꼬리\n"
     ]
    }
   ],
   "source": [
    "import requests\n",
    "from bs4 import BeautifulSoup\n",
    "\n",
    "url = 'https://news.daum.net/economy'\n",
    "print(url)\n",
    "\n",
    "response = requests.get(url)\n",
    "print(type(response))\n",
    " \n",
    "print(response.status_code)\n",
    "\n",
    "if response.status_code == 200:\n",
    "    response.encoding = 'utf-8' # 인코딩 설정하면 한글 안 깨짐\n",
    "    \n",
    "    soup = BeautifulSoup(response.text, 'html.parser') # 파싱하기 위해 BeautifulSoup 모듈 사용\n",
    "\n",
    "    news_list = soup.select('ul.list_newsheadline2 li') # 공백을 띄움으로써 ul 밑에 있는 li 추출\n",
    "    \n",
    "    print(f\"{type(news_list)} {len(news_list)}\")\n",
    "\n",
    "    for li_tag in news_list: # li_tag = <li>\n",
    "        a_tag = li_tag.find('a') # a_tag = <a href=\"\">\n",
    "        \n",
    "        if a_tag and a_tag.has_attr('href'):\n",
    "            link = a_tag['href'] # [] 안은 속성 내 값을 추출하기 위함 (규칙)\n",
    "            \n",
    "            # select()는 여러 개 대상, select_one()는 1개 대상\n",
    "            # strong_tag = li_tag.select('div.cony_thumb strong.tit_txt')[0] # 1개만 필요하므로 index 0만 추출\n",
    "            strong_tag = li_tag.select_one('div.cont_thumb strong.tit_txt')\n",
    "            \n",
    "            if strong_tag:\n",
    "                title = strong_tag.text.strip()\n",
    "                \n",
    "                print(link)\n",
    "                print(title)\n",
    "else:\n",
    "    print(f\"Error: {response.status_code}\")"
   ]
  },
  {
   "cell_type": "markdown",
   "id": "e3f73c2e",
   "metadata": {},
   "source": [
    "질문2:  여러개의 section 중 하나를 선택해서 url에서 뉴스기사의 링크와 제목을 출력하는 코드를 함수로 작성하기\n",
    "\n",
    "# 경제 뉴스 URL\n",
    "url = 'https://news.daum.net/economy'\n",
    "# 사회 뉴스 URL\n",
    "url = 'https://news.daum.net/society'\n",
    "\n",
    "코드설명\n",
    "print_news() 함수에서 section name (섹션명)을 입력 받아서 section_dict에서 section 영문 문자열을 추출해서 url을 생성합니다.\n",
    "그 이후의 코드는 질문1번 문제와 동일합니다."
   ]
  },
  {
   "cell_type": "code",
   "execution_count": null,
   "id": "2add7251",
   "metadata": {},
   "outputs": [],
   "source": [
    "section_dict = {'기후/환경':'climate','사회':'society','경제':'economy','정치':'politics', '국제':'world','문화':'culture','생활':'life','IT/과학':'tech','인물':'people'}\n",
    "\n",
    "# 함수선언\n",
    "def print_news(section_name):\n",
    "\tpass\n",
    "\n",
    "# 함수호출\n",
    "print_news('경제')\n",
    "print_news('사회')"
   ]
  },
  {
   "cell_type": "code",
   "execution_count": 2,
   "id": "184336de",
   "metadata": {},
   "outputs": [
    {
     "name": "stdout",
     "output_type": "stream",
     "text": [
      "======> https://news.daum.net/economy 경제 뉴스 <======\n",
      "https://v.daum.net/v/20250723150154993\n",
      "3선 딱지 뗀 '보험맨' 하태경 \"암호화폐 융합보험 시대 곧 온다\" [월간중앙]\n",
      "\n",
      "======> https://news.daum.net/society 사회 뉴스 <======\n",
      "https://v.daum.net/v/20250723155156616\n",
      "61년 만에 고개 숙인 검찰… ‘강제 키스 혀 절단’ 사건 최말자 씨 ‘무죄 구형’ (종합)\n",
      "\n"
     ]
    }
   ],
   "source": [
    "import requests\n",
    "from bs4 import BeautifulSoup\n",
    "\n",
    "section_dict = {\n",
    "    '기후/환경': 'climate',\n",
    "    '사회': 'society',\n",
    "    '경제': 'economy',\n",
    "    '정치': 'politics', \n",
    "    '국제': 'world',\n",
    "    '문화': 'culture',\n",
    "    '생활': 'life',\n",
    "    'IT/과학': 'tech',\n",
    "    '인물': 'people'\n",
    "}\n",
    "\n",
    "def print_news(section_name):\n",
    "    section_path = section_dict.get(section_name)\n",
    "    \n",
    "    if not section_path:\n",
    "        print(f\"'{section_name}' 섹션을 찾을 수 없습니다.\")\n",
    "        return\n",
    "        \n",
    "    # url = 'https://news.daum.net/{section_path}'.format(**req_param)\n",
    "    url = f'https://news.daum.net/{section_path}'\n",
    "    \n",
    "    print(f\"======> {url} {section_name} 뉴스 <======\")\n",
    "    \n",
    "    try:\n",
    "        response = requests.get(url)\n",
    "        response.encoding = 'utf-8'\n",
    "\n",
    "        response.raise_for_status()\n",
    "        \n",
    "        soup = BeautifulSoup(response.text, 'html.parser')\n",
    "        \n",
    "        first_news = soup.select_one('ul.list_newsheadline2 li')\n",
    "        \n",
    "        if first_news:\n",
    "            link = first_news.find('a')['href']\n",
    "            title = first_news.select_one('strong.tit_txt').get_text(strip=True)\n",
    "            \n",
    "            print(link)\n",
    "            print(title)\n",
    "        else:\n",
    "            print(\"뉴스를 찾을 수 없습니다.\")\n",
    "            \n",
    "    except requests.exceptions.RequestException as e:\n",
    "        print(f\"페이지를 불러오는 중 에러가 발생했습니다: {e}\")\n",
    "    print()\n",
    "\n",
    "print_news('경제')\n",
    "print_news('사회')"
   ]
  },
  {
   "cell_type": "code",
   "execution_count": 3,
   "id": "7e8b5bf4",
   "metadata": {},
   "outputs": [
    {
     "name": "stdout",
     "output_type": "stream",
     "text": [
      "======> https://news.daum.net/climate 기후/환경 뉴스 <======\n",
      "https://v.daum.net/v/20250723154812391\n",
      "녹조 범벅 용인 기흥저수지에서 전국 조정 경기?\n",
      "\n",
      "======> https://news.daum.net/society 사회 뉴스 <======\n",
      "https://v.daum.net/v/20250723155540826\n",
      "관세 매기는 트럼프와 플랫폼 기업의 공통점은? 갑질본색!\n",
      "\n",
      "======> https://news.daum.net/economy 경제 뉴스 <======\n",
      "https://v.daum.net/v/20250723150154993\n",
      "3선 딱지 뗀 '보험맨' 하태경 \"암호화폐 융합보험 시대 곧 온다\" [월간중앙]\n",
      "\n",
      "======> https://news.daum.net/politics 정치 뉴스 <======\n",
      "https://v.daum.net/v/20250723155003497\n",
      "강선우에 침묵하는 여당, 교수 시절 무단 결강 의혹까지\n",
      "\n",
      "======> https://news.daum.net/world 국제 뉴스 <======\n",
      "https://v.daum.net/v/20250723155530825\n",
      "中, 12월 18일부터 하이난으로 수입품에 대한 무관세 확대\n",
      "\n",
      "======> https://news.daum.net/culture 문화 뉴스 <======\n",
      "https://v.daum.net/v/20250723155054543\n",
      "“내 아이 성(性) 가치관, 부모 태도 가장 중요하다”\n",
      "\n",
      "======> https://news.daum.net/life 생활 뉴스 <======\n",
      "https://v.daum.net/v/20250723151234527\n",
      "“오늘은 병원 대신 수해지역으로 출근합니다”\n",
      "\n",
      "======> https://news.daum.net/tech IT/과학 뉴스 <======\n",
      "https://v.daum.net/v/20250723155204623\n",
      "문체부 장관 청문회 앞두고…게임업계 \"게임이용장애·P2E 명확한 입장 필요\"\n",
      "\n",
      "======> https://news.daum.net/people 인물 뉴스 <======\n",
      "https://v.daum.net/v/20250723093834177\n",
      "‘최초’가 ‘최후’로 그쳐선 안 된다는 사명감 ③ 권오남 서울대 수학교육과 교수 [플랫][여자, 언니, 선배들]\n",
      "\n"
     ]
    }
   ],
   "source": [
    "for section in section_dict.keys():\n",
    "    print_news(section)"
   ]
  }
 ],
 "metadata": {
  "kernelspec": {
   "display_name": "base",
   "language": "python",
   "name": "python3"
  },
  "language_info": {
   "codemirror_mode": {
    "name": "ipython",
    "version": 3
   },
   "file_extension": ".py",
   "mimetype": "text/x-python",
   "name": "python",
   "nbconvert_exporter": "python",
   "pygments_lexer": "ipython3",
   "version": "3.12.7"
  }
 },
 "nbformat": 4,
 "nbformat_minor": 5
}
