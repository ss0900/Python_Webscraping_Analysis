{
 "cells": [
  {
   "cell_type": "markdown",
   "id": "eb0bfa44",
   "metadata": {},
   "source": [
    "## 1. 뉴스제목 가져오기\n",
    "* user-agent 요청헤더를 반드시 설정해야 한다."
   ]
  },
  {
   "cell_type": "code",
   "execution_count": 3,
   "id": "f0d27781",
   "metadata": {},
   "outputs": [
    {
     "name": "stdout",
     "output_type": "stream",
     "text": [
      "Name: requests\n",
      "Version: 2.32.3\n",
      "Summary: Python HTTP for Humans.\n",
      "Home-page: https://requests.readthedocs.io\n",
      "Author: Kenneth Reitz\n",
      "Author-email: me@kennethreitz.org\n",
      "License: Apache-2.0\n",
      "Location: C:\\Users\\user\\anaconda3\\Lib\\site-packages\n",
      "Requires: certifi, charset-normalizer, idna, urllib3\n",
      "Required-by: anaconda-catalogs, anaconda-client, anaconda-cloud-auth, anaconda-project, conda, conda-build, conda-repo-cli, conda_package_streaming, cookiecutter, datashader, jupyterlab_server, panel, requests-file, requests-toolbelt, Sphinx, streamlit, tldextract\n"
     ]
    }
   ],
   "source": [
    "# requests 라이브러리 설치여부 확인\n",
    "!pip show requests"
   ]
  },
  {
   "cell_type": "code",
   "execution_count": 4,
   "id": "f7798ea8",
   "metadata": {},
   "outputs": [
    {
     "name": "stdout",
     "output_type": "stream",
     "text": [
      "Name: beautifulsoup4\n",
      "Version: 4.12.3\n",
      "Summary: Screen-scraping library\n",
      "Home-page: https://www.crummy.com/software/BeautifulSoup/bs4/\n",
      "Author: \n",
      "Author-email: Leonard Richardson <leonardr@segfault.org>\n",
      "License: MIT License\n",
      "Location: C:\\Users\\user\\anaconda3\\Lib\\site-packages\n",
      "Requires: soupsieve\n",
      "Required-by: conda-build, nbconvert\n"
     ]
    }
   ],
   "source": [
    "# beautifulsoup4 라이브러리 설치여부 확인\n",
    "!pip show beautifulsoup4"
   ]
  },
  {
   "cell_type": "code",
   "execution_count": 5,
   "id": "bf80a429",
   "metadata": {},
   "outputs": [],
   "source": [
    "# reqeusts, bs4 import\n",
    "import requests\n",
    "import bs4\n",
    "# bs4 모듈 속 BeautifulSoup 클래스 import\n",
    "from bs4 import BeautifulSoup"
   ]
  },
  {
   "cell_type": "code",
   "execution_count": 6,
   "id": "9788d6ac",
   "metadata": {},
   "outputs": [
    {
     "name": "stdout",
     "output_type": "stream",
     "text": [
      "requests 버전 = 2.32.3\n",
      "bs4 버전 = 4.12.3\n"
     ]
    }
   ],
   "source": [
    "# requests, bs4 버전 확인하기\n",
    "print(f'requests 버전 = {requests.__version__}')\n",
    "print(f'bs4 버전 = {bs4.__version__}')"
   ]
  },
  {
   "cell_type": "markdown",
   "id": "ccb91def-cde3-4aeb-b0e5-2e7233500333",
   "metadata": {},
   "source": [
    "### 1. 뉴스 제목 추출하기"
   ]
  },
  {
   "cell_type": "code",
   "execution_count": 7,
   "id": "94c12fd6",
   "metadata": {},
   "outputs": [
    {
     "name": "stdout",
     "output_type": "stream",
     "text": [
      "https://news.naver.com/section/105\n"
     ]
    }
   ],
   "source": [
    "# IT/과학 뉴스 \n",
    "req_param = {\n",
    "    'sid': 105\n",
    "}\n",
    "\n",
    "sid = 104\n",
    "# url = f'https://news.naver.com/section/{sid}'\n",
    "url = 'https://news.naver.com/section/{sid}'.format(**req_param)\n",
    "print(url)"
   ]
  },
  {
   "cell_type": "code",
   "execution_count": 8,
   "id": "94afd53b",
   "metadata": {},
   "outputs": [
    {
     "name": "stdout",
     "output_type": "stream",
     "text": [
      "https://news.naver.com/section/105\n",
      "200 True\n",
      "<class 'requests.models.Response'>\n",
      "<Response [200]>\n",
      "84\n",
      "<class 'bs4.element.ResultSet'>\n",
      "1 \"비전공자도 AI 개발자로\"…솔트룩스, '루시아 GPT' 기반 풀스택 과정 모집 https://n.news.naver.com/mnews/article/243/0000081687\n",
      "3 “아직도 ‘갤레기’ 써요?” 40대 아재폰 낙인, 조롱받았는데…역대급 대반전 https://n.news.naver.com/mnews/article/016/0002502787\n",
      "5 네이버클라우드, AI 추론 모델 ‘하이퍼클로바X 시드 14B 씽크’ 상업용 무료 공개 https://n.news.naver.com/mnews/article/366/0001094485\n",
      "7 최휘영 문체부장관 후보자 \"게임이용장애 질병코드 등재 신중해야\" https://n.news.naver.com/mnews/article/031/0000950817\n",
      "9 \"불법 사이트 '뉴토끼' 운영자 송환해달라\"...한국만화가·웹툰작가협회, 日 촉구 https://n.news.naver.com/mnews/article/031/0000950783\n",
      "11 \"中기업과 경쟁 심화…삼성전자 폴더블폰 점유율 '뚝'\" https://n.news.naver.com/mnews/article/018/0006071269\n",
      "13 “질 높은 AI 원료 구하라”… 이젠 데이터 확보 전쟁 https://n.news.naver.com/mnews/article/023/0003918769\n",
      "15 맛보기는 끝?… AI챗봇, 한달 요금 40만원까지 치솟아 https://n.news.naver.com/mnews/article/023/0003918734\n",
      "17 인간처럼 사고하고 증명하고 문제 해결...수학올림피아드 금메달 딴 ‘구글 AI’ https://n.news.naver.com/mnews/article/009/0005529510\n",
      "19 단통법 폐지 첫날 보조금 전쟁? 휴대폰 성지 아직은 '잠잠' https://n.news.naver.com/mnews/article/629/0000409765\n",
      "21 폴라리스오피스, 핸디소프트와 '한컴 텃밭' 공공 시장 노린다 https://n.news.naver.com/mnews/article/293/0000070128\n",
      "23 \"SKT 위약금 면제로 7조 원 손실? 국민 협박, 사과 안 하면 고발\" https://n.news.naver.com/mnews/article/006/0000130992\n",
      "25 아이폰도 이제 티머니 교통카드 사용한다 '배터리 부족해도 가능' https://n.news.naver.com/mnews/article/015/0005161401\n",
      "27 “50% 할인에도 하루 1대도 안팔려” 망할 줄 알았더니… 난리난 ‘접는폰’ 반전 https://n.news.naver.com/mnews/article/016/0002503447\n",
      "29 '모해 위증' 김계환 전 사령관, 구속영장 기각 https://n.news.naver.com/mnews/article/008/0005225406\n",
      "31 한화에어로-항우연, 누리호 기술이전 타결 초읽기…25일 체결할 듯 https://n.news.naver.com/mnews/article/020/0003649663\n",
      "33 한국형 AI 휴머노이드 키는 160cm에 체중 55kg…브레인은 대·소뇌로 분리 https://n.news.naver.com/mnews/article/092/0002383097\n",
      "35 “이러다 쫄딱 망한다!” 넷플릭스발 충격 사태에…티빙 ‘발칵’ https://n.news.naver.com/mnews/article/016/0002503435\n",
      "37 핸디소프트, 최대주주 폴라리스AI로 바뀐다 https://n.news.naver.com/mnews/article/030/0003334191\n",
      "39 단통법 오늘 폐지…이통사 보조금 전쟁 시작되나 https://n.news.naver.com/mnews/article/056/0011994013\n",
      "41 항우연-한화 누리호 기술이전 협상 타결 임박... 민간 로켓시장 확대 기대 https://n.news.naver.com/mnews/article/469/0000877468\n",
      "43 단통법 폐지 첫날, 소비자도 '성지'도 고요했다 [르포] https://n.news.naver.com/mnews/article/469/0000877461\n",
      "45 [단독] 한화에어로, 누리호 기술 100% 전수받는다…우협대상 선정 3년여만 https://n.news.naver.com/mnews/article/009/0005529453\n",
      "47 “동물 보호 외치면서 ‘뱀가죽’ 지갑?” 이런 게 수두룩…놀라운 ‘반전’ 알고 보니 [지구, 뭐래?] https://n.news.naver.com/mnews/article/016/0002503417\n",
      "49 현대카드 없어도 아이폰으로 교통카드 기능 '삑'…직접 써보니 https://n.news.naver.com/mnews/article/277/0005626419\n",
      "51 비만치료제, 끊으면 어김없이 '요요' 온다... \"중단 두 달 지나자 체중 증가\" https://n.news.naver.com/mnews/article/469/0000877452\n",
      "53 '사전판매 104만대' 갤럭시Z 시리즈 새 기록 썼다 https://n.news.naver.com/mnews/article/014/0005380893\n",
      "55 고동진 의원도 “잘 돌아가더라”… LG 엑사원, 퓨리오사AI ‘레니게이드’ 도입 https://n.news.naver.com/mnews/article/018/0006071455\n",
      "57 한산한 휴대폰 매장… ‘공짜폰’ 기대한 손님들 발길 돌려 [단통법 폐지 첫날] https://n.news.naver.com/mnews/article/014/0005380884\n",
      "59 “200% 관세 부과” 트럼프 경고에 움직인 글로벌 제약사들…대규모 투자로 대응 https://n.news.naver.com/mnews/article/029/0002970156\n",
      "61 美·中 관세 전쟁에 브라질 주목받는 까닭 https://n.news.naver.com/mnews/article/020/0003649650\n",
      "63 출고가 164만원 플립7이 9만원…단통법 폐지 첫날 '성지' 가보니 [팩플] https://n.news.naver.com/mnews/article/025/0003456896\n",
      "65 알트먼-손정의 '660조 동맹' 이상기류…오픈AI, 독자노선 걷는다 https://n.news.naver.com/mnews/article/092/0002383093\n",
      "67 신재호 디엔에프 대표 “한국의 반도체 패권, 계속될 거란 보장 어디에도 없다” https://n.news.naver.com/mnews/article/009/0005529412\n",
      "69 '2034년 36조' P2E 시장 급성장에도…사행성 낙인에 해외로 떠나는 K게임 https://n.news.naver.com/mnews/article/011/0004512257\n",
      "71 게임, K콘텐츠 주역인데…일자리 8만개 사라질 수도 있다고? https://n.news.naver.com/mnews/article/011/0004512256\n",
      "73 [비즈톡톡] 690조 AI 프로젝트 ‘스타게이트’, 오픈AI·소프트뱅크 갈등에 시작부터 난항 https://n.news.naver.com/mnews/article/366/0001094705\n",
      "75 [상법개정안 여파]하이브, '주주충실 의무'에 뉴진스 활동 재개 숙제 https://n.news.naver.com/mnews/article/293/0000070125\n",
      "77 전기 감지하는 헬멧으로 적 알아보는 '나무매미' https://n.news.naver.com/mnews/article/584/0000033509\n",
      "79 K-반도체 中企에 '3개의 사다리' 놓아달라 https://n.news.naver.com/mnews/article/009/0005529349\n",
      "81 65년 언론 DNA와 아마존 AI의 결합…'뉴스의 미래'를 다시 쓰다 https://n.news.naver.com/mnews/article/011/0004512230\n",
      "83 AI가 뚫고 막는 시대…정부 '사이버 방패' 꺼낸다 https://n.news.naver.com/mnews/article/011/0004512222\n"
     ]
    }
   ],
   "source": [
    "req_param = {\n",
    "    'sid': 105\n",
    "}\n",
    "\n",
    "url = 'https://news.naver.com/section/{sid}'.format(**req_param)\n",
    "print(url)\n",
    "\n",
    "# 요청 헤더 설정 : 브라우저 정보\n",
    "req_header = {\n",
    "    \"user-agent\": \"Mozilla/5.0 (Windows NT 10.0; Win64; x64) AppleWebKit/537.36 (KHTML, like Gecko) Chrome/138.0.0.0 Safari/537.36\"\n",
    "}\n",
    "\n",
    "# requests 의 get() 함수 호출하기 \n",
    "res = requests.get(url, headers=req_header)\n",
    "# 응답(response)이 OK 이면 200 출력\n",
    "print(res.status_code, res.ok) # 응답 상태 코드 출력\n",
    "print(type(res))\n",
    "print(res)\n",
    "\n",
    "# 응답 (response)에서 text 추출\n",
    "if res.ok:\n",
    "    html = res.text\n",
    "    # BeautifulSoup 객체 생성\n",
    "    soup = BeautifulSoup(html, 'html.parser')\n",
    "    # print(soup)\n",
    "    # CSS 선택자\n",
    "    # print(soup.select(\"div.sa_text a[href*='mnews/article']\"))\n",
    "    '''\n",
    "        <div class=\"sa_text\">\n",
    "            <a href=\"https://n.news.naver.com/mnews/article/366/0001094461\" class=\"sa_text_title\">\n",
    "    '''\n",
    "    a_tags = soup.select(\"div.sa_text a[href*='mnews/article']\") # div class 속성은 .\n",
    "    print(len(a_tags))\n",
    "    print(type(a_tags)) # [Tag, Tag, Tag]\n",
    "\n",
    "    # <a> 태그 리스트 순회하기\n",
    "    for idx, a_tag in enumerate(a_tags, 1):\n",
    "        if a_tag.text:\n",
    "            title = a_tag.text.strip() # 제목\n",
    "            link = a_tag['href'] # 링크\n",
    "            # print(len(title))\n",
    "            print(f'{idx} {title} {link}')\n",
    "else:\n",
    "    # 응답(response)이 Error 이면 status code 출력\n",
    "    print(f'Error Code: {res.status_code}')"
   ]
  },
  {
   "cell_type": "markdown",
   "id": "45640860-a449-4285-90d7-5f300292b461",
   "metadata": {},
   "source": [
    "### 1.1 뉴스제목 추출하는 함수 선언하기"
   ]
  },
  {
   "cell_type": "code",
   "execution_count": null,
   "id": "9f2e4ef8",
   "metadata": {},
   "outputs": [],
   "source": [
    "import requests\n",
    "from bs4 import BeautifulSoup\n",
    "\n",
    "#section_dict = {100:'정치',101:'경제',102:'사회',103:'생활/문화',104:'세계',105:'IT/과학'}\n",
    "section_dict = {'정치':100,'경제':101,'사회':102,'생활/문화':103,'세계':104,'IT/과학':105}\n",
    "\n",
    "def print_news(section):  #print_new(103,'생활/문화') \n",
    "    sid = section_dict[section]\n",
    "    url = f'https://news.naver.com/section/{sid}'\n",
    "    print(f'{url} {section} 뉴스')\n",
    "\n",
    "    # 요청 헤더 설정 : 브라우저 정보\n",
    "    req_header = {\n",
    "        \"user-agent\": \"Mozilla/5.0 (Windows NT 10.0; Win64; x64) AppleWebKit/537.36 (KHTML, like Gecko) Chrome/104.0.0.0 Safari/537.36\"\n",
    "    }\n",
    "    # requests 의 get() 함수 호출하기 \n",
    "    res=requests.get(url,headers=req_header)\n",
    "    print(res.status_code, res.ok)\n",
    "    if res.ok:\n",
    "        html = res.text\n",
    "        # BeautifulSoup 객체 생성\n",
    "        soup = BeautifulSoup(html, \"html.parser\")\n",
    "        a_tags = soup.select(\"div.sa_text a[href*='https://n.news.naver.com/mnews/article'].sa_text_title\")\n",
    "        print(len(a_tags))\n",
    "        # <a> 태그 리스트 순회하기\n",
    "        for idx,a_tag in enumerate(a_tags,1):\n",
    "            if a_tag.text:\n",
    "                title = a_tag.text.strip() # 제목\n",
    "                link = a_tag['href'] # 링크\n",
    "                #print(len(title))\n",
    "                print(f'{idx} {title} {link}')\n",
    "    else:\n",
    "        # 응답(response)이 Error 이면 status code 출력    \n",
    "        print(f'Error Code = {res.status_code}')"
   ]
  },
  {
   "cell_type": "code",
   "execution_count": 20,
   "id": "858952c6",
   "metadata": {},
   "outputs": [
    {
     "name": "stdout",
     "output_type": "stream",
     "text": [
      "https://news.naver.com/section/104 세계 뉴스\n",
      "200 True\n",
      "45\n",
      "1 韓, 국제수학올림피아드 금 4, 은 2 전원 수상 https://n.news.naver.com/mnews/article/029/0002969979\n",
      "2 크렘린궁 \"우크라와 3차협상서 '기적적 돌파구' 기대 안해\"(종합) https://n.news.naver.com/mnews/article/001/0015523426\n",
      "3 '엡스타인 스캔들' 덮기용?…마틴 루서 킹 암살 FBI 기록 공개 https://n.news.naver.com/mnews/article/422/0000762436\n",
      "4 美 \"필리핀 방위 조약…태평양 어디서든 적용\" https://n.news.naver.com/mnews/article/015/0005161338\n",
      "5 아스트라제네카, 美에 500억 달러 투자…의약품 관세 대응 https://n.news.naver.com/mnews/article/018/0006070606\n",
      "6 '학교로 추락' 방글라데시 훈련기…어린이 포함 27명 사망 https://n.news.naver.com/mnews/article/055/0001277531\n",
      "7 日 자민당 지각변동…'이시바 정적' 아소, 존재감 커졌다 https://n.news.naver.com/mnews/article/015/0005161329\n",
      "8 \"미, 17년 만에 영국에 핵무기 배치한 듯\" https://n.news.naver.com/mnews/article/055/0001277585\n",
      "9 美재무장관 “8월 12일 中관세 유예 시한 연장될 가능성 높다” https://n.news.naver.com/mnews/article/018/0006071573\n",
      "10 트럼프 \"필리핀과 무역합의 마무리 단계…시진핑과 머지않아 정상회담\"(종합) https://n.news.naver.com/mnews/article/421/0008386212\n",
      "11 “소득세 50% 깎아줄게”…해외로 떠난 고학력자 다시 불러들이는 ‘이 나라’ https://n.news.naver.com/mnews/article/011/0004512337\n",
      "12 트럼프 \"필리핀과 곧 무역합의 타결…거의 마무리 단계\" https://n.news.naver.com/mnews/article/469/0000877500\n",
      "13 앞바다서 대규모 유전 발견…'에너지 독립' 기대하는 이 나라 https://n.news.naver.com/mnews/article/025/0003457001\n",
      "14 [News&Why] 트럼프가 유럽 지켜주겠어? 똘똘 뭉치는 영·프·독 https://n.news.naver.com/mnews/article/023/0003918749\n",
      "15 [임성수 특파원의 여기는 워싱턴] 주중엔 관세 폭격 주말엔 나이스샷… 트럼프의 취임 6개월 https://n.news.naver.com/mnews/article/005/0001791372\n",
      "16 미 “필리핀 방위조약 태평양 어디든 적용”…한국 지원 원하나 https://n.news.naver.com/mnews/article/025/0003456982\n",
      "17 트럼프, 유네스코 탈퇴 결정…바이든 재가입 2년만에 뒤집기(종합) https://n.news.naver.com/mnews/article/001/0015523440\n",
      "18 美재무 \"中과 28~29일 무역회담…美中 관세인하 연장 가능성\"(종합) https://n.news.naver.com/mnews/article/001/0015523439\n",
      "19 뉴욕증시, 고점 부담 속 혼조 출발…기술주 약세 https://n.news.naver.com/mnews/article/366/0001094740\n",
      "20 美재무 \"내주 중국과 스톡홀름에서 무역회담\"…관세 휴전 연장 논의 https://n.news.naver.com/mnews/article/469/0000877493\n",
      "21 美, 2년 만에 유네스코 또 탈퇴…\"반이스라엘·친중 성향 문제 삼아\" https://n.news.naver.com/mnews/article/008/0005225415\n",
      "22 크렘린궁 \"우크라와 3차협상서 '기적적 돌파구' 기대 안해\"(종합) https://n.news.naver.com/mnews/article/001/0015523426\n",
      "23 2200년前 켈트족 정착지 찾았더니...금은보화 '와르르' https://n.news.naver.com/mnews/article/030/0003334200\n",
      "24 '제로 칼로리' 다이어트 음료 많이 마셨는데…'무서운 결과' https://n.news.naver.com/mnews/article/015/0005161406\n",
      "25 이란, 50도 넘는 폭염에 단수·정전…테헤란 긴급 공휴일 지정 https://n.news.naver.com/mnews/article/018/0006071571\n",
      "26 선거 참패 퇴진 요구에... 버티는 이시바, 열받는 자민당 https://n.news.naver.com/mnews/article/023/0003918691\n",
      "27 트럼프, 재가입 2년 만에 유네스코 또 탈퇴…바이든 정책 뒤집어 https://n.news.naver.com/mnews/article/469/0000877484\n",
      "28 \"美 핵무기, 17년 만에 영국 배치된 듯…F-35A 전투기 탑재용\" https://n.news.naver.com/mnews/article/008/0005225407\n",
      "29 휴전 압박에 ‘공습’ 대응…드론 공장 공개 ‘자신감’ https://n.news.naver.com/mnews/article/056/0011994181\n",
      "30 미국, 17년 만에 영국에 핵무기 배치 정황…대러 억지력 강화 https://n.news.naver.com/mnews/article/025/0003456926\n",
      "31 미국, 국제기구 또 나간다…\"트럼프 '유네스코' 탈퇴 결정\" https://n.news.naver.com/mnews/article/008/0005225402\n",
      "32 1면이 바다 폴란드 대규모 유전·가스전 발견, 3면이 바다 대한민국 '대왕고래'는? https://n.news.naver.com/mnews/article/088/0000960488\n",
      "33 트럼프, 유네스코 탈퇴 결정…바이든 재가입 2년만에 뒤집기 https://n.news.naver.com/mnews/article/001/0015523348\n",
      "34 러, 15세 아이들까지 동원…‘자폭 드론’ 한 달 5200대 찍어낸다 https://n.news.naver.com/mnews/article/032/0003384632\n",
      "35 물러설 기미 없는 이시바…자민당 내부선 “퇴진하라” 부글 https://n.news.naver.com/mnews/article/032/0003384628\n",
      "36 “MS 셰어포인트 해킹, 中 연계 조직 관련” https://n.news.naver.com/mnews/article/022/0004053887\n",
      "37 손발 안 맞는 오픈AI·소프트뱅크...트럼프의 700조 짜리 ‘AI 뉴딜’ 삐걱 https://n.news.naver.com/mnews/article/009/0005529474\n",
      "38 콘크리트 지지층 등 돌려… “자민·공명연합 한계” https://n.news.naver.com/mnews/article/022/0004053882\n",
      "39 \"美, 17년 만에 영국에 핵무기 배치한 듯\" https://n.news.naver.com/mnews/article/001/0015523293\n",
      "40 일본, 동일본대지진 이후 첫 원전 신설 추진… 신형 경수로 도입 예정 https://n.news.naver.com/mnews/article/366/0001094725\n",
      "41 일본, 원전 새로 더 짓는다…2040년까지 2배 이상 늘릴 전망 https://n.news.naver.com/mnews/article/016/0002503434\n",
      "42 한국인 가짜뉴스 퍼뜨렸던 일본 ‘민폐 유튜버’, 시의원 당선 https://n.news.naver.com/mnews/article/422/0000762658\n",
      "43 “이 나라가 부러운 점도 있네”...AI 열풍속 이공계 선호 ‘뚜렷’한 중국, 의대 인기는 급락 https://n.news.naver.com/mnews/article/009/0005529463\n",
      "44 동일본대지진 이후 첫 日신설 원전, 신형 경수로 도입 추진 https://n.news.naver.com/mnews/article/001/0015523274\n",
      "45 중국 항저우 ‘악취 수돗물’ 난린데…“유언비어 유포자 구류” https://n.news.naver.com/mnews/article/016/0002503421\n"
     ]
    }
   ],
   "source": [
    "# print_news(103,section_dict[103])\n",
    "print_news('세계')"
   ]
  },
  {
   "cell_type": "markdown",
   "id": "323196dc",
   "metadata": {},
   "source": [
    "### 2. Image 다운로드\n",
    "* referer 요청 헤더를 반드시 설정해야 한다."
   ]
  },
  {
   "cell_type": "code",
   "execution_count": 11,
   "id": "c72d6cb1",
   "metadata": {},
   "outputs": [
    {
     "name": "stdout",
     "output_type": "stream",
     "text": [
      "True 200\n",
      "20250721113606_15ea4b1dc21b833f3817bd1194f267fb_IMAG01_1.jpg\n",
      "Writing 20250721113606_15ea4b1dc21b833f3817bd1194f267fb_IMAG01_1.jpg(135,959 bytes)\n",
      "True 200\n",
      "20250721113606_15ea4b1dc21b833f3817bd1194f267fb_IMAG01_2.jpg\n",
      "Writing 20250721113606_15ea4b1dc21b833f3817bd1194f267fb_IMAG01_2.jpg(252,452 bytes)\n",
      "True 200\n",
      "20250721113606_15ea4b1dc21b833f3817bd1194f267fb_IMAG01_3.jpg\n",
      "Writing 20250721113606_15ea4b1dc21b833f3817bd1194f267fb_IMAG01_3.jpg(370,695 bytes)\n"
     ]
    }
   ],
   "source": [
    "import requests\n",
    "import os\n",
    "\n",
    "req_header = {\n",
    "    'referer':'https://comic.naver.com/webtoon/detail?titleId=840954&no=1&week=tue',\n",
    "    \"user-agent\": \"Mozilla/5.0 (Windows NT 10.0; Win64; x64) AppleWebKit/537.36 (KHTML, like Gecko) Chrome/138.0.0.0 Safari/537.36\"\n",
    "}\n",
    "\n",
    "img_urls = [\n",
    "    'https://image-comic.pstatic.net/webtoon/840954/1/20250721113606_15ea4b1dc21b833f3817bd1194f267fb_IMAG01_1.jpg',\n",
    "    'https://image-comic.pstatic.net/webtoon/840954/1/20250721113606_15ea4b1dc21b833f3817bd1194f267fb_IMAG01_2.jpg',\n",
    "    'https://image-comic.pstatic.net/webtoon/840954/1/20250721113606_15ea4b1dc21b833f3817bd1194f267fb_IMAG01_3.jpg'\n",
    "]\n",
    "\n",
    "for img_url in img_urls:\n",
    "    # requests 의 get(url, headers) 함수 호출하기\n",
    "    res = requests.get(img_url, headers=req_header)\n",
    "    print(res.ok, res.status_code)\n",
    "    if res.ok:\n",
    "        # binary 응답 데이터 가져오기\n",
    "        img_data = res.content\n",
    "        # print(img_data)\n",
    "        # url에서 파일명만 추출하기\n",
    "        file_name = os.path.basename(img_url)\n",
    "        print(file_name)\n",
    "        # binday data를 file에 write하기\n",
    "        with open(file_name, 'wb') as file: # wb: write binary\n",
    "            print(f'Writing {file_name}({len(img_data):,} bytes)')\n",
    "            file.write(img_data)"
   ]
  },
  {
   "cell_type": "markdown",
   "id": "e8b00a04",
   "metadata": {},
   "source": [
    "* 현재 요청된 페이지의 image 모두 다운로드 해보기"
   ]
  },
  {
   "cell_type": "code",
   "execution_count": 12,
   "id": "b30f7bf5",
   "metadata": {},
   "outputs": [
    {
     "name": "stdout",
     "output_type": "stream",
     "text": [
      "200\n",
      "100\n",
      "42\n",
      "42\n"
     ]
    }
   ],
   "source": [
    "import requests\n",
    "from bs4 import BeautifulSoup \n",
    "import os\n",
    "\n",
    "webtoon_url = 'https://comic.naver.com/webtoon/detail?titleId=826887&no=57&week=tue'\n",
    "\n",
    "req_header = {\n",
    "    'referer': webtoon_url,\n",
    "    \"user-agent\": \"Mozilla/5.0 (Windows NT 10.0; Win64; x64) AppleWebKit/537.36 (KHTML, like Gecko) Chrome/138.0.0.0 Safari/537.36\"\n",
    "}\n",
    "\n",
    "res = requests.get(webtoon_url)\n",
    "print(res.status_code)\n",
    "if res.ok:\n",
    "    soup = BeautifulSoup(res.text, 'html.parser')\n",
    "    print(len(soup.select(\"img[src$='.jpg']\")))\n",
    "    # https://image-comic.pstatic.net/webtoon\n",
    "    print(len(soup.select(\"img[src^='https://image-comic.pstatic.net/webtoon/826887/57/20250616174232_f57726d2b95899b88de4b0a4522803be_IMAG01']\"))) # 일치\n",
    "    print(len(soup.select(\"img[src*='IMAG01']\"))) # 일치"
   ]
  },
  {
   "cell_type": "markdown",
   "id": "2ac9f5f9",
   "metadata": {},
   "source": [
    "### 3. 파일 업로드 하기\n",
    "* http://httpbin.org/post 업로드 요청을 할 수 있는 url"
   ]
  },
  {
   "cell_type": "code",
   "execution_count": 13,
   "id": "04da4790",
   "metadata": {},
   "outputs": [],
   "source": [
    "import requests\n",
    "\n",
    "upload_files = {\n",
    "    \n",
    "}\n",
    "#print(upload_files)\n",
    "\n",
    "url = 'http://httpbin.org/post'\n",
    "# file 업로드 하려면 requests의 post 함수에 files 속성을 사용합니다.\n",
    "\n"
   ]
  },
  {
   "cell_type": "markdown",
   "id": "7ad65f12",
   "metadata": {},
   "source": [
    "### 4. 캡챠(이미지) API 호출하기\n",
    "* urllib 사용\n",
    "* 1. 캡차 키 발급 요청\n",
    "  2. 캡차 이미지 요청\n",
    "  3. 사용자 입력값 검증 요청"
   ]
  },
  {
   "cell_type": "code",
   "execution_count": 14,
   "id": "bc4ae360-e772-4873-8642-d3494edd34e1",
   "metadata": {},
   "outputs": [],
   "source": [
    "# 캡차 키 발급 요청\n"
   ]
  },
  {
   "cell_type": "code",
   "execution_count": 15,
   "id": "7b95b6a0-c218-4792-82a6-da4d80872071",
   "metadata": {},
   "outputs": [],
   "source": [
    "# 캡차 이미지 요청\n"
   ]
  },
  {
   "cell_type": "code",
   "execution_count": 16,
   "id": "a79076af-2cd0-4de2-8301-316b9130c55e",
   "metadata": {},
   "outputs": [],
   "source": [
    "#  사용자 입력값 검증 요청\n",
    "\n"
   ]
  },
  {
   "cell_type": "markdown",
   "id": "b7d984a6",
   "metadata": {},
   "source": [
    "* requests를 사용하는 코드로 변경하기\n",
    "* [requests docs](https://requests.readthedocs.io/en/latest/user/quickstart/)"
   ]
  },
  {
   "cell_type": "code",
   "execution_count": 17,
   "id": "727b427b",
   "metadata": {
    "scrolled": true
   },
   "outputs": [],
   "source": [
    "# 사용자 입력값 검증 요청\n",
    "\n"
   ]
  },
  {
   "cell_type": "markdown",
   "id": "d5e1179a",
   "metadata": {},
   "source": [
    "### 5. 블로그 검색하기"
   ]
  },
  {
   "cell_type": "code",
   "execution_count": 18,
   "id": "877d0c7f",
   "metadata": {},
   "outputs": [],
   "source": [
    "import requests\n",
    "import pprint\n",
    "\n",
    "headers = {\n",
    "    'X-Naver-Client-Id': '',\n",
    "    'X-Naver-Client-Secret': '',\n",
    "}\n",
    "\n",
    "payload = {\n",
    "    'query': '파이썬',\n",
    "    'display': 100,\n",
    "    'sort': 'sim'\n",
    "}\n",
    "\n",
    "url = 'https://openapi.naver.com/v1/search/blog.json'\n",
    "\n",
    "\n",
    "# requests get(url, params, headers) 요청 \n",
    "\n",
    "# json() 함수로 응답 결과 가져오오기\n",
    "# 'title' , 'bloggername' , 'description' , 'bloggerlink' , 'link'\n",
    "\n",
    "# 'data/nhnblog.txt' 파일 생성하기\n"
   ]
  }
 ],
 "metadata": {
  "kernelspec": {
   "display_name": "base",
   "language": "python",
   "name": "python3"
  },
  "language_info": {
   "codemirror_mode": {
    "name": "ipython",
    "version": 3
   },
   "file_extension": ".py",
   "mimetype": "text/x-python",
   "name": "python",
   "nbconvert_exporter": "python",
   "pygments_lexer": "ipython3",
   "version": "3.12.7"
  }
 },
 "nbformat": 4,
 "nbformat_minor": 5
}
